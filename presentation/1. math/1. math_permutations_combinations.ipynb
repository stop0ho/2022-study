{
 "cells": [
  {
   "attachments": {},
   "cell_type": "markdown",
   "id": "38ea702e",
   "metadata": {},
   "source": [
    "# 순열(Permutations)\n",
    "서로 다른 n개에서 r개를 선택할 때 순서를 고려하여 중복없이 뽑을 경우의 수  \n",
    "예) A, B, C, D에서 두 개를 순서를 고려하여 중복없이 뽑을 경우의 수  \n",
    "AB/AC/AD  \n",
    "BA/BC/BD  \n",
    "CA/CB/CD  \n",
    "DA/DB/DC  \n",
    "총 12가지  \n",
    "AB와 BA를 다른 것으로 본다.  \n",
    "<b>모듈 itertools로 구현 가능 </b>"
   ]
  },
  {
   "cell_type": "markdown",
   "id": "0fa82eae",
   "metadata": {},
   "source": [
    "## permutations(반복 가능한 객체, r)\n",
    "반복가능한 객체(리스트, 튜플, 문자열) 안에서 순서를 고려하여 중복 없이 r개를 선택한다.  \n",
    "리턴값 : 객체  \n",
    "경우의 수에 대한 쌍을 튜플 형식으로 반환한다."
   ]
  },
  {
   "cell_type": "code",
   "execution_count": 2,
   "id": "e4f19532",
   "metadata": {},
   "outputs": [],
   "source": [
    "from itertools import permutations"
   ]
  },
  {
   "cell_type": "code",
   "execution_count": 4,
   "id": "399508e7",
   "metadata": {},
   "outputs": [],
   "source": [
    "arr = ['A', 'B', 'C', 'D']"
   ]
  },
  {
   "cell_type": "code",
   "execution_count": 8,
   "id": "6c9d3cdd",
   "metadata": {},
   "outputs": [
    {
     "data": {
      "text/plain": [
       "<itertools.permutations at 0x1ffb3413a90>"
      ]
     },
     "execution_count": 8,
     "metadata": {},
     "output_type": "execute_result"
    }
   ],
   "source": [
    "permutations(arr, 2)"
   ]
  },
  {
   "cell_type": "code",
   "execution_count": 10,
   "id": "b5360fed",
   "metadata": {},
   "outputs": [
    {
     "name": "stdout",
     "output_type": "stream",
     "text": [
      "('A', 'B')\n",
      "('A', 'C')\n",
      "('A', 'D')\n",
      "('B', 'A')\n",
      "('B', 'C')\n",
      "('B', 'D')\n",
      "('C', 'A')\n",
      "('C', 'B')\n",
      "('C', 'D')\n",
      "('D', 'A')\n",
      "('D', 'B')\n",
      "('D', 'C')\n"
     ]
    }
   ],
   "source": [
    "for i in permutations(arr, 2):\n",
    "    print(i)"
   ]
  },
  {
   "cell_type": "markdown",
   "id": "9fb01f33",
   "metadata": {},
   "source": [
    "### 순열의 총 개수 구하기\n",
    "리스트로 변환해서 리스트의 길이를 구하면 된다."
   ]
  },
  {
   "cell_type": "code",
   "execution_count": 12,
   "id": "712c237f",
   "metadata": {},
   "outputs": [
    {
     "data": {
      "text/plain": [
       "12"
      ]
     },
     "execution_count": 12,
     "metadata": {},
     "output_type": "execute_result"
    }
   ],
   "source": [
    "len(list(permutations(arr, 2)))"
   ]
  },
  {
   "cell_type": "markdown",
   "id": "27577510",
   "metadata": {},
   "source": [
    "# 조합\n",
    "서로 다른 n개에서 r개를 선택할 때, <b>순서를 고려하지 않고</b> 중복없이 뽑는 경우의 수  \n",
    "예를 들어 A B C D의 모든 가능한 조합은\n",
    "AB/AC/AD  \n",
    "BC/BD  \n",
    "CD  \n",
    "로 총 6가지이다. 순서를 고려하지 않기 때문에 AB, BA는 같은 경우로 본다."
   ]
  },
  {
   "cell_type": "markdown",
   "id": "64af4042",
   "metadata": {},
   "source": [
    "## combinations(반복 가능한 객체, r)  \n",
    "반복 가능한 객체(리스트, 튜플, 문자열) 안에서 r개를 선택한다.  \n",
    "리턴값은 객체이며 경우의 수에 대한 쌍을 튜플 형식으로 반환한다."
   ]
  },
  {
   "cell_type": "code",
   "execution_count": 14,
   "id": "b74dfba6",
   "metadata": {},
   "outputs": [],
   "source": [
    "from itertools import combinations"
   ]
  },
  {
   "cell_type": "code",
   "execution_count": 16,
   "id": "412a50ca",
   "metadata": {},
   "outputs": [
    {
     "name": "stdout",
     "output_type": "stream",
     "text": [
      "<itertools.combinations object at 0x000001FFB3444950>\n"
     ]
    }
   ],
   "source": [
    "print(combinations(arr,2))"
   ]
  },
  {
   "cell_type": "code",
   "execution_count": 18,
   "id": "d3a3a32a",
   "metadata": {},
   "outputs": [
    {
     "name": "stdout",
     "output_type": "stream",
     "text": [
      "('A', 'B')\n",
      "('A', 'C')\n",
      "('A', 'D')\n",
      "('B', 'C')\n",
      "('B', 'D')\n",
      "('C', 'D')\n"
     ]
    }
   ],
   "source": [
    "for i in combinations(arr, 2):\n",
    "    print(i)"
   ]
  },
  {
   "cell_type": "markdown",
   "id": "e24bf735",
   "metadata": {},
   "source": [
    "# 주의사항\n",
    "permutaions, combination 메소드는 주소에 있는 객체를 반환하는 것이므로  \n",
    "단순히 print(combinations(arr, 2))를 하면 위의 결과처럼 나온다.  \n",
    "따라서 원하는 값을 직접 보고싶다면 <b>리스트나 튜플 형태로 변환</b>해야 한다."
   ]
  },
  {
   "cell_type": "code",
   "execution_count": 19,
   "id": "e57129e0",
   "metadata": {},
   "outputs": [
    {
     "name": "stdout",
     "output_type": "stream",
     "text": [
      "[('A', 'B'), ('A', 'C'), ('A', 'D'), ('B', 'C'), ('B', 'D'), ('C', 'D')]\n"
     ]
    }
   ],
   "source": [
    "print(list(combinations(arr, 2)))"
   ]
  }
 ],
 "metadata": {
  "kernelspec": {
   "display_name": "Python 3 (ipykernel)",
   "language": "python",
   "name": "python3"
  },
  "language_info": {
   "codemirror_mode": {
    "name": "ipython",
    "version": 3
   },
   "file_extension": ".py",
   "mimetype": "text/x-python",
   "name": "python",
   "nbconvert_exporter": "python",
   "pygments_lexer": "ipython3",
   "version": "3.9.5"
  }
 },
 "nbformat": 4,
 "nbformat_minor": 5
}
